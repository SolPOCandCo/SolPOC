{
 "cells": [
  {
   "cell_type": "markdown",
   "id": "b5a3f801-7052-4783-8676-2af96363ffaf",
   "metadata": {},
   "source": [
    "## Welcome to the SolPOC Notebook !\n",
    "### In a way to pick up the software, we propose you to learn and test the key features in a way to be familiar with the software before usage.<br>\n",
    "\n",
    "# Chapter 5 : Cost functions"
   ]
  },
  {
   "cell_type": "markdown",
   "id": "08de340a-5773-403a-8f1f-790b529591ae",
   "metadata": {},
   "source": [
    "In a way to facilitate the evaluation of the R, T or A with the solar spectrum as we saw in Chapter 3, we created some callables to manage the differents cases. We call them evaluate with the type of unit we want to calculate, here are all the evaluate callables present in SolPOC :"
   ]
  },
  {
   "cell_type": "markdown",
   "id": "4e9271c9-fffe-4d7d-9569-4e25f658bc4b",
   "metadata": {},
   "source": [
    "evaluate_R<br>\n",
    "evaluate_T<br>\n",
    "evaluate_R_s<br>\n",
    "evaluate_T_s<br>\n",
    "evaluate_A_s<br>\n",
    "evaluate_R_Brg<br>\n",
    "evaluate_T_pv<br>\n",
    "evaluate_A_pv<br>\n",
    "evaluate_T_vis<br>\n",
    "evaluate_low_e<br>\n",
    "evaluate_rh<br>\n",
    "evaluate_RTR<br>\n",
    "evaluate_RTA_s<br>"
   ]
  },
  {
   "cell_type": "markdown",
   "id": "1c0bc35d-1f57-454c-babc-c206f9bca3b3",
   "metadata": {},
   "source": [
    "Each of that callable methods represent a particular optical problem. Most of them represent classical optimal problems but some of them are more tricky and need more special parameters to be initialized (please refer to the User Guide if you want to know that callables better)."
   ]
  },
  {
   "cell_type": "markdown",
   "id": "27da262b-0e9d-4d0e-8364-173f18cd4b70",
   "metadata": {},
   "source": [
    "If we take the same example as Chapter 3 :"
   ]
  },
  {
   "cell_type": "code",
   "execution_count": 1,
   "id": "5c1dabf8-2c02-4472-a391-24db2363f5ec",
   "metadata": {},
   "outputs": [],
   "source": [
    "from solpoc import *\n",
    "import numpy as np"
   ]
  },
  {
   "cell_type": "code",
   "execution_count": 2,
   "id": "fa270e0d-832a-4098-9e54-ceb3457b8e3d",
   "metadata": {},
   "outputs": [
    {
     "name": "stdout",
     "output_type": "stream",
     "text": [
      "A_s =  0.202214644301779\n"
     ]
    }
   ],
   "source": [
    "Mat_Stack = ['Fe', 'Au', 'SiO2']\n",
    "d_Stack = [1000000, 150, 100]\n",
    "Wl = np.arange(280, 2505, 5)\n",
    "n_Stack, k_Stack = Made_Stack(Mat_Stack, Wl)\n",
    "Ang = 0\n",
    "Wl_Sol, Sol_Spec, name_Sol_Spec = open_SolSpec('Materials/SolSpec.txt','GT')\n",
    "Sol_Spec = np.interp(Wl, Wl_Sol, Sol_Spec)\n",
    "parameters = {\n",
    "    'Mat_Stack' : Mat_Stack,\n",
    "    'd_Stack' : d_Stack,\n",
    "    'Wl' : Wl,\n",
    "    'n_Stack' : n_Stack,\n",
    "    'k_Stack' : k_Stack,\n",
    "    'Ang' : Ang,\n",
    "    'Sol_Spec' : Sol_Spec,}\n",
    "print('A_s = ', evaluate_A_s(d_Stack, parameters))"
   ]
  },
  {
   "cell_type": "markdown",
   "id": "9fc9dd60-6c64-462a-9ac5-f0c6b522c842",
   "metadata": {},
   "source": [
    "If we change the thicknesses, we can see that the solar absorptance is changing :"
   ]
  },
  {
   "cell_type": "code",
   "execution_count": 3,
   "id": "3663d47e-7aae-4ae8-8ee6-5cdb09dc3469",
   "metadata": {},
   "outputs": [
    {
     "name": "stdout",
     "output_type": "stream",
     "text": [
      "A_s =  0.21824068498413135\n"
     ]
    }
   ],
   "source": [
    "d_Stack = [1000000, 175, 80]\n",
    "parameters.update({\n",
    "    'd_Stack' : d_Stack,})\n",
    "print('A_s = ', evaluate_A_s(d_Stack, parameters))"
   ]
  },
  {
   "cell_type": "markdown",
   "id": "161af597-a0fb-470d-befd-b912f4812d4d",
   "metadata": {},
   "source": [
    "This is how it works for an easy case. Nevertheless, d_Stack can have different aspects. Linked with what we saw in Chapter 3, if there are some mixed materials in the stack, d_Stack includes the volumetric fractions too. For example :"
   ]
  },
  {
   "cell_type": "code",
   "execution_count": 4,
   "id": "67663c73-3aba-4f92-9cec-f48a52eb5b4c",
   "metadata": {},
   "outputs": [],
   "source": [
    "Mat_Stack = ['Fe', 'W-Al2O3', 'SiO2']\n",
    "d_Stack = [1000000, 150, 100, 0, 0.3, 0]\n",
    "d_Stack = np.array(d_Stack) #conversion list to array automatically done into the code\n",
    "n_Stack, k_Stack = Made_Stack(Mat_Stack, Wl)\n",
    "parameters.update({\n",
    "    'Mat_Stack' : Mat_Stack,\n",
    "    'd_Stack' : d_Stack,\n",
    "    'n_Stack' : n_Stack,\n",
    "    'k_Stack' : k_Stack,})"
   ]
  },
  {
   "cell_type": "markdown",
   "id": "0c9fd83b-e3cc-44f1-a9ea-1a2f1b6e7be1",
   "metadata": {},
   "source": [
    "Here, d_Stack is made of Thicknesses (1000000, 150 100) and the vf of each material. We have to give a value for the vf for Fe and SiO2 even if they are thin layers made of single materials. To avoid misunderstanding, we propose to use 0. Concerning W-Al2O3, the thin layer is made of 30% of W and 70% of Al2O3. So we put 0.3 as the value of vf here (because 0.3 represents the W part)."
   ]
  },
  {
   "cell_type": "markdown",
   "id": "304c958e-7f18-47cc-ac4c-42555fc526b5",
   "metadata": {},
   "source": [
    "In a way to manage the different cases, evaluate takes an argument called individual (we will talk more about this variable in Chapter 6) instead of d_Stack. In reality, you will see that in the code functions :"
   ]
  },
  {
   "cell_type": "code",
   "execution_count": 5,
   "id": "644a6988-b4fb-4ba8-b08f-28385a51432d",
   "metadata": {},
   "outputs": [
    {
     "name": "stdout",
     "output_type": "stream",
     "text": [
      "A_s =  0.9372494316059883\n"
     ]
    }
   ],
   "source": [
    "print('A_s = ', evaluate_A_s(d_Stack, parameters))"
   ]
  },
  {
   "cell_type": "markdown",
   "id": "02995b44-849c-4ae9-8c09-77cef8eb5042",
   "metadata": {},
   "source": [
    "Individual (array) is just a d_Stack but has a different form depending on the context of the problem."
   ]
  },
  {
   "cell_type": "markdown",
   "id": "281ab8d3-7f30-446b-8648-20b3bf65239b",
   "metadata": {},
   "source": [
    "At the moment that all is rigth defined, we can easilly change the callable in a way to change what we want to evaluate."
   ]
  },
  {
   "cell_type": "code",
   "execution_count": 6,
   "id": "1b47b345-2e24-4bba-820e-4b49a5ce0b55",
   "metadata": {},
   "outputs": [
    {
     "name": "stdout",
     "output_type": "stream",
     "text": [
      "R_s =  0.06275056839401193\n"
     ]
    }
   ],
   "source": [
    "print('R_s = ', evaluate_R_s(d_Stack, parameters))"
   ]
  },
  {
   "cell_type": "markdown",
   "id": "0f25bb93-424d-4493-9067-3bd5fccc96fd",
   "metadata": {},
   "source": [
    "Using callables, we can store the name of the evaluate functions into variables to automatically use the rigth evaluation method far away into the code without change anything :"
   ]
  },
  {
   "cell_type": "code",
   "execution_count": 7,
   "id": "b47a9b46-6ccb-4c3c-9215-211370056a4c",
   "metadata": {},
   "outputs": [
    {
     "name": "stdout",
     "output_type": "stream",
     "text": [
      "result :  0.06275056839401193\n"
     ]
    }
   ],
   "source": [
    "#Start of your code\n",
    "evaluate = evaluate_R_s\n",
    "#...\n",
    "#Far away in the code\n",
    "print('result : ', evaluate(d_Stack, parameters))#here we execut evaluate_R_s function"
   ]
  },
  {
   "cell_type": "markdown",
   "id": "6ae64215-7089-464e-ad84-0f71e7c5fd1a",
   "metadata": {},
   "source": [
    "To conclude, every physical problem has his proper evaluate callable. Linked to that, if you want to solve a problem that's not covered with a dedicated evaluable callable, you can create your own one. The necessary conditions are only to take in arguments an individual (Chapter 6) and the parameters dictionnary, and to return a float between 0 and 1."
   ]
  },
  {
   "cell_type": "markdown",
   "id": "e2c750ad-9b86-4613-be55-83b86d2c183d",
   "metadata": {},
   "source": [
    "[Chapter 6](SolPOC_Chapter_6.ipynb)"
   ]
  }
 ],
 "metadata": {
  "kernelspec": {
   "display_name": "Python 3 (ipykernel)",
   "language": "python",
   "name": "python3"
  },
  "language_info": {
   "codemirror_mode": {
    "name": "ipython",
    "version": 3
   },
   "file_extension": ".py",
   "mimetype": "text/x-python",
   "name": "python",
   "nbconvert_exporter": "python",
   "pygments_lexer": "ipython3",
   "version": "3.11.7"
  }
 },
 "nbformat": 4,
 "nbformat_minor": 5
}
