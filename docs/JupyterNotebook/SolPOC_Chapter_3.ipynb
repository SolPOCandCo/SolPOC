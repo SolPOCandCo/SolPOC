{
 "cells": [
  {
   "cell_type": "markdown",
   "id": "73aee62b-7394-468a-84ac-23f1653b962e",
   "metadata": {},
   "source": [
    "## Welcome to the SolPOC Notebook !\n",
    "### In a way to pick up the software, we propose you to learn and test the key features in a way to be familiar with the software before usage.<br>\n",
    "\n",
    "# Chapter 3 : Mixed materials"
   ]
  },
  {
   "cell_type": "markdown",
   "id": "ed76ec45-c838-44b6-a570-1e024f3428d7",
   "metadata": {},
   "source": [
    "You can add some mixed materials in your stack (you must write them with the name of both mixed materials with a '-' between them, ex : ZnO-Al). Here is an example of the Made_Stack() function with a mixed material : W-Al2O3 where W and Al2O3 and the different materials (separated here by a '-')."
   ]
  },
  {
   "cell_type": "code",
   "execution_count": 1,
   "id": "70401e6f-a6a2-4836-a3a4-3c8d4f964c53",
   "metadata": {},
   "outputs": [],
   "source": [
    "from solpoc import *\n",
    "import numpy as np"
   ]
  },
  {
   "cell_type": "code",
   "execution_count": 2,
   "id": "b6a3eb4c-aeec-4f92-bcab-8fd61e0da293",
   "metadata": {},
   "outputs": [
    {
     "name": "stdout",
     "output_type": "stream",
     "text": [
      "n_Stack = \n",
      " [[[2.20897018 0.        ]\n",
      "  [3.56       1.64986742]]\n",
      "\n",
      " [[2.46433042 0.        ]\n",
      "  [3.83705584 1.64625916]]\n",
      "\n",
      " [[2.71969066 0.        ]\n",
      "  [3.55970037 1.6437331 ]]\n",
      "\n",
      " [[2.97505089 0.        ]\n",
      "  [3.2504878  1.64186602]]\n",
      "\n",
      " [[3.23013043 0.        ]\n",
      "  [3.04014599 1.64042989]]]\n",
      "\n",
      "k_Stack = \n",
      " [[[3.07371273 0.        ]\n",
      "  [2.85333333 0.        ]]\n",
      "\n",
      " [[3.39291302 0.        ]\n",
      "  [2.8815736  0.        ]]\n",
      "\n",
      " [[3.71211332 0.        ]\n",
      "  [2.73022472 0.        ]]\n",
      "\n",
      " [[4.03131362 0.        ]\n",
      "  [3.00829268 0.        ]]\n",
      "\n",
      " [[4.35043478 0.        ]\n",
      "  [3.43927007 0.        ]]]\n"
     ]
    }
   ],
   "source": [
    "Wl = np.arange(600, 1100, 100)\n",
    "n_Stack, k_Stack = Made_Stack(['Fe', 'W-Al2O3'], Wl)\n",
    "print('n_Stack = \\n', n_Stack)\n",
    "print('\\nk_Stack = \\n', k_Stack)"
   ]
  },
  {
   "cell_type": "markdown",
   "id": "eb5d53a8-b4ba-4a4d-a08e-c0f206df3cc2",
   "metadata": {},
   "source": [
    "In this case, each index of n_Stack or k_Stack has 2 values. If the index is the index of a simple material (Fe here), the first value will be the n (or the k) of the material and the second will be 0. Else, the material is a mixed one (W-Al2O3 here) so the first value is the n (or the k) of the first material mixed (W) and the second is for the other material (Al2O3)."
   ]
  },
  {
   "cell_type": "markdown",
   "id": "3eae5967-9a05-4b03-b152-1a53e31aa0c6",
   "metadata": {},
   "source": [
    "To calculate the refractive index properties, we use Effective Medium Approximation (EMA). More precisely, we use Bruggeman method described in the litterature. In this code, you are able to set the volumetric fraction vf of the mixed materials (you can set that a mixed material is composed of 70% W and 30% of Al2O3 for example). For that, you have to set the vf (volumetric fraction) variable for each layer. Here, the first layer is pure so we put it to 0."
   ]
  },
  {
   "cell_type": "code",
   "execution_count": 3,
   "id": "f637b3b2-afdc-4538-b026-c4e3bd0bfb5b",
   "metadata": {},
   "outputs": [],
   "source": [
    "vf = [0, 0.7]"
   ]
  },
  {
   "cell_type": "markdown",
   "id": "4912babe-217e-45d9-aceb-73a8fdfa82f2",
   "metadata": {},
   "source": [
    "Here, we have like we said in the example, 70% of W and 30% of Al2O3."
   ]
  },
  {
   "cell_type": "markdown",
   "id": "ddfffa2c-4898-4cf2-ad44-939a54ab3bbd",
   "metadata": {},
   "source": [
    "Now that vf is set, for these materials, a variation of Made_Stack() exists : Made_Stack_vf(). This function takes care about the mixing law entered by the user using the Bruggeman function in a way to return n_Stack_vf and k_Stack_vf that are the same than without mixed materials."
   ]
  },
  {
   "cell_type": "code",
   "execution_count": 4,
   "id": "c94d6783-ddd6-45be-9b04-672a63ba8b50",
   "metadata": {},
   "outputs": [
    {
     "name": "stdout",
     "output_type": "stream",
     "text": [
      "n_Stack_vf = \n",
      " [[2.20897018 2.91817188]\n",
      " [2.46433042 3.11071664]\n",
      " [2.71969066 2.92042253]\n",
      " [2.97505089 2.69273767]\n",
      " [3.23013043 2.52372398]]\n",
      "\n",
      "k_Stack_vf = \n",
      " [[3.07371273 1.97691385]\n",
      " [3.39291302 2.0068498 ]\n",
      " [3.71211332 1.89127787]\n",
      " [4.03131362 2.07374723]\n",
      " [4.35043478 2.36614355]]\n"
     ]
    }
   ],
   "source": [
    "n_Stack_vf, k_Stack_vf = Made_Stack_vf(n_Stack, k_Stack, vf)\n",
    "print('n_Stack_vf = \\n', n_Stack_vf)\n",
    "print('\\nk_Stack_vf = \\n', k_Stack_vf)"
   ]
  },
  {
   "cell_type": "markdown",
   "id": "30f9ff85-d7bc-4abe-b057-0c310dd6950e",
   "metadata": {},
   "source": [
    "We now have a simple list for n and k as we have for simple materials but for mixed ones !"
   ]
  },
  {
   "cell_type": "markdown",
   "id": "e01e0117-0ab6-4fa5-b7ab-5ba2b0fe296f",
   "metadata": {},
   "source": [
    "[Chapter 4](SolPOC_Chapter_4.ipynb)"
   ]
  }
 ],
 "metadata": {
  "kernelspec": {
   "display_name": "Python 3 (ipykernel)",
   "language": "python",
   "name": "python3"
  },
  "language_info": {
   "codemirror_mode": {
    "name": "ipython",
    "version": 3
   },
   "file_extension": ".py",
   "mimetype": "text/x-python",
   "name": "python",
   "nbconvert_exporter": "python",
   "pygments_lexer": "ipython3",
   "version": "3.11.7"
  }
 },
 "nbformat": 4,
 "nbformat_minor": 5
}
