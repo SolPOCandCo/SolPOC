{
 "cells": [
  {
   "cell_type": "markdown",
   "id": "82ba4516-ebb2-46d9-ae14-335230d82f19",
   "metadata": {},
   "source": [
    "<a id=\"Chapitre-2\"></a>"
   ]
  },
  {
   "cell_type": "markdown",
   "id": "186e9a4c-e779-4d52-9c3f-1f517daf94a7",
   "metadata": {},
   "source": [
    "<a id=\"Chapter 2\"></a>"
   ]
  },
  {
   "cell_type": "markdown",
   "id": "e8b0556b-2aa2-4784-9e7d-d0beb210b861",
   "metadata": {},
   "source": [
    "<a id=\"Chapter-2\"></a>"
   ]
  },
  {
   "cell_type": "markdown",
   "id": "0467fa62-2a52-453d-a32b-a58493e2077d",
   "metadata": {},
   "source": [
    "## Welcome to the SolPOC Notebook !\n",
    "### In a way to pick up the software, we propose you to learn and test the key features in a way to be familiar with the software before usage.<br>\n",
    "\n",
    "# Chapter 2 : Materials"
   ]
  },
  {
   "cell_type": "markdown",
   "id": "25dad39f-bdeb-4fcc-b0c5-adaa1f101f02",
   "metadata": {},
   "source": [
    "We've just seen in chapter 1 how to calculate easily R, T, A parameters. But we chose some random values that can't be randomly chosen in a real optic problem. Let's see how the software is managing the different materials."
   ]
  },
  {
   "cell_type": "markdown",
   "id": "227e5a0f-8c64-4553-8f26-2a3e3030848e",
   "metadata": {},
   "source": [
    "In the program, the materials parameters that we need are the n (real part of his refractive index) and the k (complex part of his refractive index). For a lot of materials, these values exist for a large of wavelengths thanks to researches of some researchers in the world. This values are multiple but present in a dedicated folder called Materials. The douments format is precise, and ahs to be always the same, 1st column are the wavelengths, 2nd one the n(s) and 3rd one, the k(s). <br>\n",
    "The problem is that when we want to solve a poroblem with SolPOC, we may want to solve it at some wavelenths that are not exactly the same as those the researchers made experiences. That's why we made the Made_Stack() function. <br>\n",
    "Made_Stack() takes the different materials and wavelengths of the problem. <br>\n",
    "--> Made_Stack() is calling the open_material() function which is opening the txt file of each material in a way to take the values of research we just discussed about before."
   ]
  },
  {
   "cell_type": "markdown",
   "id": "c5a457ae-bec4-4d09-9749-896428a85fc6",
   "metadata": {},
   "source": [
    "Now, we import all SolPOC functions with the import * command. It's not necessary to use the sc. formalism:"
   ]
  },
  {
   "cell_type": "code",
   "execution_count": 6,
   "id": "67a96d44-c01f-4b3c-98b2-53acb15c356a",
   "metadata": {},
   "outputs": [],
   "source": [
    "from solpoc import *\n",
    "import numpy as np\n",
    "import matplotlib.pyplot as plt"
   ]
  },
  {
   "cell_type": "markdown",
   "id": "38831dab-5224-412e-a991-5a2bd3eac3d3",
   "metadata": {},
   "source": [
    "The code is going to read the materials properties (Zno here) : "
   ]
  },
  {
   "cell_type": "code",
   "execution_count": 3,
   "id": "4e395bd9-6b0e-46cc-90ce-13259c59396e",
   "metadata": {},
   "outputs": [
    {
     "name": "stdout",
     "output_type": "stream",
     "text": [
      "Wl =  [ 450.   485.5  521.   556.5  592.   627.5  663.   698.5  734.   769.5\n",
      "  805.   840.5  876.   911.5  947.   982.5 1018.  1054.  1089.  1125.\n",
      " 1160.  1196.  1231.  1267.  1302.  1338.  1373.  1409.  1444.  1480.\n",
      " 1515.  1551.  1586.  1622.  1657.  1693.  1728.  1764.  1799.  1835.\n",
      " 1870.  1906.  1941.  1977.  2012.  2048.  2083.  2119.  2154.  2190.\n",
      " 2225.  2261.  2296.  2332.  2367.  2403.  2438.  2474.  2509.  2545.\n",
      " 2580.  2616.  2651.  2687.  2722.  2758.  2793.  2829.  2864.  2900.\n",
      " 2935.  2971.  3006.  3042.  3077.  3113.  3148.  3184.  3219.  3255.\n",
      " 3290.  3326.  3361.  3397.  3432.  3468.  3503.  3539.  3574.  3610.\n",
      " 3645.  3681.  3716.  3752.  3787.  3823.  3858.  3894.  3929.  3965.\n",
      " 4000. ]\n",
      "n =  [2.10539912 2.06415918 2.03640466 2.01656202 2.00174318 1.99030341\n",
      " 1.98123843 1.97390116 1.9678565  1.9628015  1.95851905 1.95484967\n",
      " 1.9516738  1.94890011 1.94645772 1.9442909  1.94235522 1.94059162\n",
      " 1.93904078 1.93758973 1.93629968 1.93508009 1.93398512 1.93294024\n",
      " 1.9319937  1.93108272 1.93025071 1.92944367 1.92870102 1.92797545\n",
      " 1.92730314 1.92664193 1.92602535 1.92541526 1.92484304 1.92427368\n",
      " 1.92373683 1.92319998 1.92269135 1.92218039 1.92169419 1.92120377\n",
      " 1.92073532 1.92026107 1.91980649 1.9193448  1.91890092 1.91844879\n",
      " 1.91801293 1.91756786 1.9171378  1.91669768 1.91627153 1.91583457\n",
      " 1.91541073 1.91497541 1.91455251 1.91411753 1.91369438 1.91325862\n",
      " 1.91283422 1.91239671 1.91197018 1.91153006 1.91110063 1.91065718\n",
      " 1.91022419 1.90977676 1.90933961 1.90888762 1.9084458  1.90798877\n",
      " 1.90754181 1.90707928 1.90662679 1.90615837 1.90569997 1.90522531\n",
      " 1.90476068 1.90427946 1.90380831 1.90332024 1.90284232 1.90234715\n",
      " 1.9018622  1.9013597  1.90086752 1.90035748 1.89985787 1.8993401\n",
      " 1.89883289 1.89830721 1.89779223 1.89725848 1.89673558 1.89619362\n",
      " 1.89566267 1.89511235 1.89457322 1.89401444 1.89346701]\n",
      "k =  [0. 0. 0. 0. 0. 0. 0. 0. 0. 0. 0. 0. 0. 0. 0. 0. 0. 0. 0. 0. 0. 0. 0. 0.\n",
      " 0. 0. 0. 0. 0. 0. 0. 0. 0. 0. 0. 0. 0. 0. 0. 0. 0. 0. 0. 0. 0. 0. 0. 0.\n",
      " 0. 0. 0. 0. 0. 0. 0. 0. 0. 0. 0. 0. 0. 0. 0. 0. 0. 0. 0. 0. 0. 0. 0. 0.\n",
      " 0. 0. 0. 0. 0. 0. 0. 0. 0. 0. 0. 0. 0. 0. 0. 0. 0. 0. 0. 0. 0. 0. 0. 0.\n",
      " 0. 0. 0. 0. 0.]\n"
     ]
    }
   ],
   "source": [
    "Wl_mat, n_mat, k_mat = open_material('ZnO')\n",
    "print('Wl = ', Wl_mat)\n",
    "print('n = ', n_mat)\n",
    "print('k = ', k_mat)"
   ]
  },
  {
   "cell_type": "markdown",
   "id": "40384ea9-d82b-403f-be23-b44e335a35b1",
   "metadata": {},
   "source": [
    "Here is an example of a txt file with the wavelengths in the first array (first column of the txt), the n(s) in the second and ths k(s) i the third."
   ]
  },
  {
   "cell_type": "markdown",
   "id": "e81b2ac8-7bc2-4c18-b660-e9640c036ace",
   "metadata": {},
   "source": [
    "After opening the material txt, the function need to find the values of n and k at the target wavelengths. For that, Made_Stack() uses an interpolation method (interpolate_with_extrapolation() function) which calculates for each wavelength in Wl a value of n and k. Let's tke the same Wl as the first chapter and test :"
   ]
  },
  {
   "cell_type": "code",
   "execution_count": 4,
   "id": "1a9e8c06-2fa0-4ad6-ba47-cb2ec03792f6",
   "metadata": {},
   "outputs": [
    {
     "name": "stdout",
     "output_type": "stream",
     "text": [
      "[ 600  700  800  900 1000]\n",
      "[1.99916521 1.97364575 1.95912221 1.94979863 1.94333669]\n",
      "[0. 0. 0. 0. 0.]\n"
     ]
    }
   ],
   "source": [
    "Wl = np.arange(600, 1100, 100)\n",
    "n = interpolate_with_extrapolation(Wl, Wl_mat, n_mat)\n",
    "k = interpolate_with_extrapolation(Wl, Wl_mat, k_mat)\n",
    "print(Wl)\n",
    "print(n)\n",
    "print(k)"
   ]
  },
  {
   "cell_type": "markdown",
   "id": "10c4e4bd-828a-4f9d-93e4-0552a581dfb2",
   "metadata": {},
   "source": [
    "Here is an example of the interpolation process :"
   ]
  },
  {
   "cell_type": "code",
   "execution_count": 5,
   "id": "4e4fa55f-7d52-44dc-b0d3-59fa51f909f8",
   "metadata": {},
   "outputs": [
    {
     "data": {
      "image/png": "[encoded data removed]",
      "text/plain": [
       "<Figure size 640x480 with 1 Axes>"
      ]
     },
     "metadata": {},
     "output_type": "display_data"
    }
   ],
   "source": [
    "fig, ax = plt.subplots()\n",
    "ax.set_xlabel('Wavelength (nm)')\n",
    "plt.scatter(Wl_mat, n_mat, color='blue', marker='o', label='Initial n of the material')\n",
    "plt.plot(Wl, n, color='red')\n",
    "plt.scatter(Wl, n, color='red', marker='x', label='Interpolated points')\n",
    "ax.set_xlim(500, 1100)\n",
    "plt.legend()\n",
    "plt.show()"
   ]
  },
  {
   "cell_type": "markdown",
   "id": "8e81aaa0-e005-4eba-81e9-7a9210c7d3e3",
   "metadata": {},
   "source": [
    "This is a nice way to understand how the interpolation works. We can see the red points who are aporximated results at the wavelengths wanted matching the blue curve."
   ]
  },
  {
   "cell_type": "markdown",
   "id": "2ce9c79b-121c-4ad9-b12f-0ab724bf8a2f",
   "metadata": {},
   "source": [
    "For every wavelength of our problem, we now have an the real and the complex part of the refractive index ! We now put these values into variables respectively called n_Stack and k_Stack which take the n and k of all the materials of the stack which will be useful in all the program !"
   ]
  },
  {
   "cell_type": "markdown",
   "id": "1ce03390-eafe-4c18-81a4-5937c789c617",
   "metadata": {},
   "source": [
    "Notice that Made_Stack() takes a Stack called Mat_Stack in parameters, not just a material. In fact, the difference is that a single material is a String (ex : 'SiO2') and Mat_Stack is a list (ex : ['SiO2', 'Al', 'Ag'])."
   ]
  },
  {
   "cell_type": "code",
   "execution_count": null,
   "id": "433b43b8-9a69-4139-a54e-d6f7052888f8",
   "metadata": {},
   "outputs": [],
   "source": [
    "Made_Stack('BK7','MgF2', Wl)"
   ]
  },
  {
   "cell_type": "markdown",
   "id": "dcb4f60a-06c4-4a12-90f1-b2485ef88c91",
   "metadata": {},
   "source": [
    "This is the correct way to use Made_Stack() function  :"
   ]
  },
  {
   "cell_type": "code",
   "execution_count": 6,
   "id": "f6917965-886c-4b85-8d5b-05249e678c78",
   "metadata": {},
   "outputs": [
    {
     "data": {
      "text/plain": [
       "(array([[1.5163    , 1.37752149],\n",
       "        [1.5131    , 1.37608318],\n",
       "        [1.5108    , 1.3750562 ],\n",
       "        [1.509     , 1.37425762],\n",
       "        [1.5075    , 1.37358428]]),\n",
       " array([[2.6413e-08, 0.0000e+00],\n",
       "        [2.2326e-08, 0.0000e+00],\n",
       "        [2.3164e-08, 0.0000e+00],\n",
       "        [2.4003e-08, 0.0000e+00],\n",
       "        [2.4841e-08, 0.0000e+00]]))"
      ]
     },
     "execution_count": 6,
     "metadata": {},
     "output_type": "execute_result"
    }
   ],
   "source": [
    "Made_Stack(['BK7', 'MgF2'], Wl)"
   ]
  },
  {
   "cell_type": "markdown",
   "id": "16226dea-b1bb-4f3c-8503-8d88cf3814cf",
   "metadata": {},
   "source": [
    "As we said, Made_Stack() makes an error if we call it with a material but if we call it with a list of a Stack (even a Stack of one material) that gives us the n_Stack and the k_Stack as we wanted !"
   ]
  },
  {
   "cell_type": "markdown",
   "id": "91ef9b02-e03c-4a49-892c-1906aec4af3e",
   "metadata": {},
   "source": [
    "[Chapter 3](SolPOC_Chapter_3.ipynb)"
   ]
  }
 ],
 "metadata": {
  "kernelspec": {
   "display_name": "Python 3 (ipykernel)",
   "language": "python",
   "name": "python3"
  },
  "language_info": {
   "codemirror_mode": {
    "name": "ipython",
    "version": 3
   },
   "file_extension": ".py",
   "mimetype": "text/x-python",
   "name": "python",
   "nbconvert_exporter": "python",
   "pygments_lexer": "ipython3",
   "version": "3.11.7"
  }
 },
 "nbformat": 4,
 "nbformat_minor": 5
}
