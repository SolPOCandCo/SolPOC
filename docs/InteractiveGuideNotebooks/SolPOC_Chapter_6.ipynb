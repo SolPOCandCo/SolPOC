{
 "cells": [
  {
   "cell_type": "markdown",
   "id": "3358a3fc-8bbd-4cfc-b829-116df5ee30ff",
   "metadata": {},
   "source": [
    "## Welcome to the SolPOC Notebook !\n",
    "### In a way to pick up the software, we propose you to learn and test the key features in a way to be familiar with the software before usage.<br>\n",
    "\n",
    "# Chapter 6 : The optimization"
   ]
  },
  {
   "cell_type": "markdown",
   "id": "2712e8f1-9f1d-427f-865f-d3ff50a4937e",
   "metadata": {},
   "source": [
    "Now that you're familiar with the evaluate methods, let's see one of the best features of SolPOC : the optimization. If you want to test a problem and know which solution is the best, SolPOC has different methods in a way to find the best way to answer a problem. They are quite a lot so we let you refer to the User Guide and the functions_SolPOC.py file to know the difference between them. We just advise you to learn this differences because each algorithm need specific parameters."
   ]
  },
  {
   "cell_type": "markdown",
   "id": "4ef9ca88-131d-4e68-926a-36bdad36dedd",
   "metadata": {},
   "source": [
    "In a way to understand the role of the Optimization, let's take an example. Let's evaluate the solar absorptivity of a stack and change the thicknesses in a way to find the better solar transmissivity :"
   ]
  },
  {
   "cell_type": "code",
   "execution_count": 22,
   "id": "92948f7c-5632-4c67-8677-cf7a0af01d56",
   "metadata": {},
   "outputs": [],
   "source": [
    "import solpoc as sol\n",
    "import numpy as np\n",
    "import os"
   ]
  },
  {
   "cell_type": "code",
   "execution_count": null,
   "id": "5c545fa6-9637-4a71-9aae-d8ef23c7bda8",
   "metadata": {},
   "outputs": [
    {
     "name": "stdout",
     "output_type": "stream",
     "text": [
      "result =  0.8127566934377729\n"
     ]
    }
   ],
   "source": [
    "evaluate = sol.evaluate_T_s\n",
    "Mat_Stack = ['BK7', 'TiO2', 'SiO2']\n",
    "d_Stack = [1000000, 50, 150]\n",
    "Wl = np.arange(280, 2505, 5)\n",
    "n_Stack, k_Stack = sol.Made_Stack(Mat_Stack, Wl)\n",
    "Wl_Sol, Sol_Spec, name_Sol_Spec = sol.open_SolSpec('Materials/SolSpec.txt','GT')\n",
    "Sol_Spec = np.interp(Wl, Wl_Sol, Sol_Spec)\n",
    "Ang = 0\n",
    "parameters = ({\n",
    "    'Mat_Stack' : Mat_Stack,\n",
    "    'd_Stack' : d_Stack,\n",
    "    'Wl' : Wl,\n",
    "    'n_Stack' : n_Stack,\n",
    "    'k_Stack' : k_Stack,\n",
    "    'Sol_Spec' : Sol_Spec,\n",
    "    'Ang' : Ang,})\n",
    "print('result = ', evaluate(d_Stack, parameters))"
   ]
  },
  {
   "cell_type": "markdown",
   "id": "016f7415-db68-49e1-8590-b15296533788",
   "metadata": {},
   "source": [
    "This result is good but maybe not the best we can find, let's try to increase the TiO2's thickness :"
   ]
  },
  {
   "cell_type": "code",
   "execution_count": 24,
   "id": "6483d21d-b1b0-46c3-96cd-b0caf54b4692",
   "metadata": {},
   "outputs": [
    {
     "name": "stdout",
     "output_type": "stream",
     "text": [
      "result =  0.8353540807919196\n"
     ]
    }
   ],
   "source": [
    "d_Stack = [1000000, 100, 150]\n",
    "parameters.update({\n",
    "    'd_Stack' : d_Stack})\n",
    "print('result = ', evaluate(d_Stack, parameters))"
   ]
  },
  {
   "cell_type": "markdown",
   "id": "65a38a05-7fa7-4beb-b25a-41e3f7b0ceca",
   "metadata": {},
   "source": [
    "It seems to be better, let's try to decrease the SiO2's thickness so :"
   ]
  },
  {
   "cell_type": "code",
   "execution_count": 25,
   "id": "dddcb867-36c4-4ec8-9808-6d6fef015ff5",
   "metadata": {},
   "outputs": [
    {
     "name": "stdout",
     "output_type": "stream",
     "text": [
      "result =  0.8599832866848345\n"
     ]
    }
   ],
   "source": [
    "d_Stack = [1000000, 100, 100]\n",
    "parameters.update({\n",
    "    'd_Stack' : d_Stack})\n",
    "print('result = ', evaluate(d_Stack, parameters))"
   ]
  },
  {
   "cell_type": "markdown",
   "id": "a1fe1e97-3deb-4d28-93c4-ff09478574d9",
   "metadata": {},
   "source": [
    "We can see that the best result is for d_Stack = [1000000, 100, 100]. But we aren't very precise, if we want to find the best solution, we have to test multiple combinaisons. That's what optimization algorithms are made for. Let's try to find the best solution for this problem using an optimiztion method."
   ]
  },
  {
   "cell_type": "markdown",
   "id": "a5e310b3-b23f-43a8-aa96-6e1535dbbef0",
   "metadata": {},
   "source": [
    "To use optimization algorithms we need to initilaize a lot of parameters, first we put the same as the example :"
   ]
  },
  {
   "cell_type": "code",
   "execution_count": null,
   "id": "1fa7fb8c-1497-4991-9aa2-07498e12deeb",
   "metadata": {},
   "outputs": [],
   "source": [
    "Mat_Stack = ['BK7', 'TiO2', 'SiO2']\n",
    "Wl = np.arange(280, 2505, 5)\n",
    "Wl_Sol , Sol_Spec , name_Sol_Spec = sol.open_SolSpec('Materials/SolSpec.txt','GT')\n",
    "Sol_Spec = np.interp(Wl, Wl_Sol, Sol_Spec)\n",
    "n_Stack, k_Stack = sol.Made_Stack(Mat_Stack, Wl)\n",
    "Ang = 0"
   ]
  },
  {
   "cell_type": "markdown",
   "id": "8d527a2e-b69a-4aba-b155-d244894a4f70",
   "metadata": {},
   "source": [
    "Then we have to choose an optimization algorithm. At this moment, we recommand you to use Differencial Evolution, directly implemented in SolPOC in DEvol function. Similarly to evaluate methods, we can use a callable."
   ]
  },
  {
   "cell_type": "code",
   "execution_count": null,
   "id": "bd01bfd0-5315-422e-9319-c65a52d349aa",
   "metadata": {},
   "outputs": [],
   "source": [
    "algo = sol.DEvol"
   ]
  },
  {
   "cell_type": "markdown",
   "id": "70d90a09-f346-4c8b-b648-11cc72e60f7a",
   "metadata": {},
   "source": [
    "The selection variable is made for saying to the algorithm that we want him to consider the maximum solution or the minimum. Here, we want to maximize the evaluate function."
   ]
  },
  {
   "cell_type": "code",
   "execution_count": null,
   "id": "a5d1152b-bc43-460d-af41-729933e02bdc",
   "metadata": {},
   "outputs": [],
   "source": [
    "selection = sol.selection_max"
   ]
  },
  {
   "cell_type": "markdown",
   "id": "bb3878f9-e485-44cd-b330-3e9204a0bbf3",
   "metadata": {},
   "source": [
    "evaluate is for choosing an evaluate method (like in chapter 5). Here, we stay on the example of evaluate_T_s."
   ]
  },
  {
   "cell_type": "code",
   "execution_count": null,
   "id": "e1e78f7a-99c0-4a8c-aeb9-d0e6097b2273",
   "metadata": {},
   "outputs": [],
   "source": [
    "evaluate = sol.evaluate_T_s"
   ]
  },
  {
   "cell_type": "markdown",
   "id": "86ae06b4-e4c2-4344-ac22-63ba1b409972",
   "metadata": {},
   "source": [
    "Th_Substrate is for setting the thickness of the substrate, we stay on the same example of 1 million **nm** (1 **mm**)."
   ]
  },
  {
   "cell_type": "code",
   "execution_count": 30,
   "id": "12f498c9-9778-4bcd-881e-57c005510c21",
   "metadata": {},
   "outputs": [],
   "source": [
    "Th_Substrate = 1e6"
   ]
  },
  {
   "cell_type": "markdown",
   "id": "7f0dba3f-b0c8-45e1-977e-2b2d184829b6",
   "metadata": {},
   "source": [
    "Th_range is for setting an interval of thicknesses for the generation of stacks. It should depend on your possibilities regarding the capacity of making the stack in real life."
   ]
  },
  {
   "cell_type": "code",
   "execution_count": 31,
   "id": "fc546a97-6740-4ace-94f0-069e456c6324",
   "metadata": {},
   "outputs": [],
   "source": [
    "Th_range = (0, 200)"
   ]
  },
  {
   "cell_type": "code",
   "execution_count": 32,
   "id": "4402eb33-e4eb-44d1-a85d-d97d3c6884cd",
   "metadata": {},
   "outputs": [],
   "source": [
    "pop_size = 10\n",
    "mutation_rate = 0.5\n",
    "nb_generation = 10\n",
    "mutation_DE = \"current_to_best\"\n",
    "f1, f2 = 0.9, 0.8"
   ]
  },
  {
   "cell_type": "markdown",
   "id": "5a60f013-d921-4aaa-ab48-64b54c457220",
   "metadata": {},
   "source": [
    "These are parameters regarding the DEvol algorithm."
   ]
  },
  {
   "cell_type": "code",
   "execution_count": 33,
   "id": "9752325b-3119-4f15-a793-9079c2ca9e52",
   "metadata": {},
   "outputs": [],
   "source": [
    "parameters = ({\n",
    "    'Mat_Stack' : Mat_Stack,\n",
    "    'algo' : algo,\n",
    "    'selection' : selection,\n",
    "    'evaluate' : evaluate,\n",
    "    'Wl' : Wl,\n",
    "    'Th_Substrate' : Th_Substrate,\n",
    "    'Th_range' : Th_range,\n",
    "    'Ang' : Ang,\n",
    "    'pop_size' : pop_size,\n",
    "    'mutation_rate' : mutation_rate,\n",
    "    'nb_generation' : nb_generation,\n",
    "    'n_Stack' : n_Stack,\n",
    "    'k_Stack' : k_Stack,\n",
    "    'Sol_Spec' : Sol_Spec,\n",
    "    'mutation_DE' : mutation_DE,\n",
    "    'f1' : f1,\n",
    "    'f2' : f2,})"
   ]
  },
  {
   "cell_type": "markdown",
   "id": "604dc1a5-5912-4d47-ae7b-ff937e9051b6",
   "metadata": {},
   "source": [
    "Then, we have special parameters to add just for DEvol :"
   ]
  },
  {
   "cell_type": "markdown",
   "id": "1a63255f-0224-432c-bf0f-37f7b07229a4",
   "metadata": {},
   "source": [
    "Now, let's see what's the best solution. For that, we launch the function that we already put into algo with 3 parameters : evaluate, selection and the parameters dictionary."
   ]
  },
  {
   "cell_type": "code",
   "execution_count": 34,
   "id": "61da216e-4d2b-4113-a02c-e7164a249ee4",
   "metadata": {},
   "outputs": [
    {
     "name": "stdout",
     "output_type": "stream",
     "text": [
      "d_Stack =  [1.00000000e+06 1.54816656e+02 1.02990379e+02]\n",
      "result =  0.87508436838379\n"
     ]
    }
   ],
   "source": [
    "best_solution, dev, n_iter, seed = algo(evaluate, selection, parameters)\n",
    "print('d_Stack = ', best_solution)\n",
    "print('result = ', evaluate(best_solution,parameters))"
   ]
  },
  {
   "cell_type": "markdown",
   "id": "65ad143a-1cc1-48d1-ac4f-04adcd8e2a4e",
   "metadata": {},
   "source": [
    "We got here the higher T_s possible with this Stack of materials with a possible range of 0 to 200 **nm**. result contains the evaluate value. d_Stack contains the thicknesses of each layer."
   ]
  },
  {
   "cell_type": "markdown",
   "id": "7b34d2a4-a2da-4c45-9f34-2dc60d7c2264",
   "metadata": {},
   "source": [
    "We could want to minimize R_s instead of maximize T_s :"
   ]
  },
  {
   "cell_type": "code",
   "execution_count": null,
   "id": "d9453aee-a8f5-491c-b02e-6ab5a6d936cd",
   "metadata": {},
   "outputs": [
    {
     "name": "stdout",
     "output_type": "stream",
     "text": [
      "d_Stack =  [1.00000000e+06 1.05005886e+00 1.15582780e+02]\n",
      "result =  0.03341955258209516\n"
     ]
    }
   ],
   "source": [
    "evaluate = sol.evaluate_R_s\n",
    "selection = sol.selection_min\n",
    "parameters.update({\n",
    "    'evaluate' : evaluate,\n",
    "    'selection' : selection,})\n",
    "best_solution, dev, n_iter, seed = algo(evaluate, selection, parameters)\n",
    "print('d_Stack = ', best_solution)\n",
    "print('result = ', evaluate(best_solution,parameters))"
   ]
  },
  {
   "cell_type": "markdown",
   "id": "1b2ebd7f-1c48-4e2d-af6c-4179a66a81ae",
   "metadata": {},
   "source": [
    "Here, we got the lowest solar Reflectance possible."
   ]
  },
  {
   "cell_type": "code",
   "execution_count": null,
   "id": "69b0e686-f74c-4eaa-9af1-52dcf90b1bcc",
   "metadata": {},
   "outputs": [
    {
     "name": "stdout",
     "output_type": "stream",
     "text": [
      "R_s :  0.03341955258209516 A_s :  0.002750312401537852 T_s :  0.963830135016367\n",
      "total : 1.0\n"
     ]
    }
   ],
   "source": [
    "R_s = sol.evaluate_R_s(best_solution,parameters)\n",
    "T_s = sol.evaluate_T_s(best_solution,parameters)\n",
    "A_s = sol.evaluate_A_s(best_solution,parameters)\n",
    "print('R_s : ', R_s, 'A_s : ', A_s, 'T_s : ', T_s)\n",
    "print('total :', R_s+T_s+A_s)"
   ]
  },
  {
   "cell_type": "markdown",
   "id": "636740ed-ac18-4f68-bf0a-f25266d32b43",
   "metadata": {},
   "source": [
    "We can observe that the T_s is the same T_s value that we previously into the cell [56]."
   ]
  },
  {
   "cell_type": "markdown",
   "id": "10f584ca-3452-4e0e-9dde-d5c1fa188ba1",
   "metadata": {},
   "source": [
    "As it said before, we can increase the optimization quality. The parameters are optimization method depending. As example, for DE, let's try to increase the size of the population. Let's see with 2 different values of pop_size. <br>\n",
    "For that, we will use the random.seed() method that allows us to use same random numbers for multiple operations and put the same random numbers in both simulation. If you want to be familiar with, you can try to execute this cell multiple times :"
   ]
  },
  {
   "cell_type": "code",
   "execution_count": 37,
   "id": "8e3aa0a9-cc48-4746-8d8d-0b90bc64e02a",
   "metadata": {},
   "outputs": [
    {
     "name": "stdout",
     "output_type": "stream",
     "text": [
      "9\n",
      "6\n",
      "6\n",
      "8\n"
     ]
    }
   ],
   "source": [
    "import numpy as np\n",
    "np.random.seed(15)\n",
    "for i in range(4):\n",
    "    print(np.random.randint(1, 10))"
   ]
  },
  {
   "cell_type": "markdown",
   "id": "538d237d-2529-47b6-a880-962bd5c1e440",
   "metadata": {},
   "source": [
    "Even if we have a random number, you should have the following values in this order : 9 6 6 8. It's just because we fixed the seed value ! It allows us to compare more precisely the effect of changing the population size."
   ]
  },
  {
   "cell_type": "code",
   "execution_count": null,
   "id": "f09dc429-1f63-4485-9eaf-5baba48e0b87",
   "metadata": {},
   "outputs": [
    {
     "name": "stdout",
     "output_type": "stream",
     "text": [
      "d_Stack =  [1.00000000e+06 1.04517382e+01 6.54114608e+01]\n",
      "T_s =  0.9152963221904474\n",
      "d_Stack =  [1.00000000e+06 6.97306576e+00 2.78107314e+00]\n",
      "T_s =  0.9317442411571616\n"
     ]
    }
   ],
   "source": [
    "seed = 50\n",
    "pop_size = 10\n",
    "nb_generation = 2\n",
    "evaluate = sol.evaluate_T_s\n",
    "selection = sol.selection_max\n",
    "parameters.update({\n",
    "    'pop_size' : pop_size,\n",
    "    'nb_generation' : nb_generation,\n",
    "    'seed' : seed,\n",
    "    'evaluate' : evaluate,\n",
    "    'selection' : selection,})\n",
    "#running optimization process\n",
    "best_solution, dev, n_iter, seed = algo(evaluate, selection, parameters)\n",
    "print('d_Stack = ', best_solution)\n",
    "print('T_s = ', evaluate(best_solution,parameters))\n",
    "#update the new pop_size\n",
    "pop_size = 30\n",
    "parameters.update({\n",
    "    'pop_size' : pop_size,})\n",
    "#running optimization process\n",
    "best_solution, dev, n_iter, seed = algo(evaluate, selection, parameters)\n",
    "print('d_Stack = ', best_solution)\n",
    "print('T_s = ', evaluate(best_solution,parameters))"
   ]
  },
  {
   "cell_type": "markdown",
   "id": "5e0bff7d-8b59-4850-98a0-3f41c68ff6ab",
   "metadata": {},
   "source": [
    "Here, the program generated more cases (30 instead of 10) and the probability of having better ones was lower."
   ]
  },
  {
   "cell_type": "markdown",
   "id": "fa09fcc9-5655-479e-9110-cb0c86fea1e1",
   "metadata": {},
   "source": [
    "Let's do the same with nb_generation :"
   ]
  },
  {
   "cell_type": "code",
   "execution_count": 39,
   "id": "45e67d45-de65-4b47-9dc9-e1d4c8a1da6a",
   "metadata": {},
   "outputs": [
    {
     "name": "stdout",
     "output_type": "stream",
     "text": [
      "d_Stack =  [1.00000000e+06 3.60717166e+00 8.12840487e+01]\n",
      "T_s =  0.9557481046421298\n",
      "d_Stack =  [1.00000000e+06 1.18819712e+00 1.15853495e+02]\n",
      "T_s =  0.9639208207593507\n"
     ]
    }
   ],
   "source": [
    "nb_generation = 3\n",
    "parameters.update({\n",
    "    'nb_generation' : nb_generation,})\n",
    "#running optimization process\n",
    "best_solution, dev, n_iter, seed = algo(evaluate, selection, parameters)\n",
    "print('d_Stack = ', best_solution)\n",
    "print('T_s = ', evaluate(best_solution,parameters))\n",
    "#update the new nb_generation\n",
    "nb_generation = 8\n",
    "parameters.update({\n",
    "    'nb_generation' : nb_generation,})\n",
    "#running optimization process\n",
    "best_solution, dev, n_iter, seed = algo(evaluate, selection, parameters)\n",
    "print('d_Stack = ', best_solution)\n",
    "print('T_s = ', evaluate(best_solution,parameters))"
   ]
  },
  {
   "cell_type": "code",
   "execution_count": 40,
   "id": "e6c83711-8944-4d96-b3e4-f42d4c61257e",
   "metadata": {},
   "outputs": [
    {
     "name": "stdout",
     "output_type": "stream",
     "text": [
      "d_Stack =  [1.00000000e+06 1.18819712e+00 1.15853495e+02]\n",
      "T_s =  0.9639208207593507\n"
     ]
    }
   ],
   "source": [
    "nb_generation = 10\n",
    "parameters.update({\n",
    "    'nb_generation' : nb_generation,})\n",
    "#running optimization process\n",
    "best_solution, dev, n_iter, seed = algo(evaluate, selection, parameters)\n",
    "print('d_Stack = ', best_solution)\n",
    "print('T_s = ', evaluate(best_solution,parameters))"
   ]
  },
  {
   "cell_type": "markdown",
   "id": "a998c370-624b-4dd5-9a4f-722559c34ceb",
   "metadata": {},
   "source": [
    "It's possible to study the convergence of an optimization method using the values presents into the variable dev. See the User guide for more details."
   ]
  },
  {
   "cell_type": "markdown",
   "id": "55cea5e0-8317-4a65-8d34-3f82ebfc07fe",
   "metadata": {},
   "source": [
    "With enough number of generation, the optimization method indentified the maximum value. The suppose the optimum global and the problem solved."
   ]
  },
  {
   "cell_type": "markdown",
   "id": "44ca11e0-fd2a-4dd4-8d5e-7fe6a403a22f",
   "metadata": {},
   "source": [
    "To ensure that the previous result is really a global optimum, we need to repeat the optimization method from different starting points meaning a different seed value. Read the User Guide and the academic paper on the section called 'Regularity as optimality indicator' and the 'consistency curves'."
   ]
  },
  {
   "cell_type": "code",
   "execution_count": 41,
   "id": "70348d3e-2794-443d-8d60-7c85d299016e",
   "metadata": {},
   "outputs": [
    {
     "name": "stdout",
     "output_type": "stream",
     "text": [
      "Launch  1  :  0.96395\n",
      "Launch  2  :  0.96431\n",
      "Launch  3  :  0.96428\n",
      "Launch  4  :  0.96411\n",
      "Launch  5  :  0.96432\n",
      "Launch  6  :  0.96405\n",
      "Launch  7  :  0.96356\n",
      "Launch  8  :  0.96371\n",
      "Launch  9  :  0.96431\n",
      "Launch  10  :  0.96422\n"
     ]
    }
   ],
   "source": [
    "try:\n",
    "    del parameters['seed']\n",
    "except:\n",
    "    print('seed not in parameters')\n",
    "pop_size = 30\n",
    "parameters.update({\n",
    "    'pop_size' : pop_size,})\n",
    "tab_perf = []\n",
    "for i in range(10):\n",
    "    best_solution, dev, n_iter, seed = algo(evaluate, selection, parameters)\n",
    "    tab_perf.append(evaluate(best_solution,parameters))\n",
    "    print('Launch ', i+1, ' : ', \"{:.5f}\".format(evaluate(best_solution,parameters)))"
   ]
  },
  {
   "cell_type": "markdown",
   "id": "7582c8fe-c335-45fd-a1ee-1c4fe94c7ca4",
   "metadata": {},
   "source": [
    "We find a better value that previously ! You should observe 1 or 2 values close from 0.9642X. The previous value of 0.9639 is not a global optimum and replay the optimization method several times is always a good idea."
   ]
  },
  {
   "cell_type": "markdown",
   "id": "3e77fbe6-8773-4ab7-8c14-09b1d33419ef",
   "metadata": {},
   "source": [
    "We can see that the different results are close. But in a way to avoid printing results everytime to see the differences, we can show on a graph the consistency of the results. For that we can call a function by adding some dedicated parameters :"
   ]
  },
  {
   "cell_type": "code",
   "execution_count": null,
   "id": "20302c66-0d0e-422a-9871-1a9445ee5b71",
   "metadata": {},
   "outputs": [
    {
     "data": {
      "image/png": "[encoded data removed]",
      "text/plain": [
       "<Figure size 640x480 with 1 Axes>"
      ]
     },
     "metadata": {},
     "output_type": "display_data"
    }
   ],
   "source": [
    "from datetime import datetime\n",
    "Experience_results = ({\n",
    "    'tab_perf' : tab_perf,})\n",
    "date_time = datetime.now().strftime(\"%Y-%m-%d-%Hh%M\")\n",
    "directory = date_time\n",
    "if not os.path.exists(directory):\n",
    "        os.makedirs(directory)\n",
    "sol.Consistency_curve_plot(parameters, Experience_results, directory)"
   ]
  },
  {
   "cell_type": "markdown",
   "id": "35bac63c-5ef3-4417-8db4-c5e85cb53890",
   "metadata": {},
   "source": [
    "The consistency curve show the ability of the optimization method to find the same optimum several times. Ideally, the values are close to each other. As the consistency curve sorts the values, we are looking for a group of identical values to the left of the graph. If some identical or close values are identified several times, that brings the confidence that we have in the results high. The maximum value should be 0.9643."
   ]
  },
  {
   "cell_type": "markdown",
   "id": "c48d3bc6-7682-44cb-ad35-69598cc34763",
   "metadata": {},
   "source": [
    "To end with optimization methods, we precise that each case generated in the population is called as an individual here and that's why in the previous chapter we put individual as the name of the d_Stack, it's because individual represent the best solution given by the optimization algorithms. The name of this variable is more an IT name than a physics one."
   ]
  },
  {
   "cell_type": "markdown",
   "id": "9645b316-7380-47f1-a8f7-df0cada76581",
   "metadata": {},
   "source": [
    "[Chapter 7](SolPOC_Chapter_7.ipynb)"
   ]
  }
 ],
 "metadata": {
  "kernelspec": {
   "display_name": "Python 3 (ipykernel)",
   "language": "python",
   "name": "python3"
  },
  "language_info": {
   "codemirror_mode": {
    "name": "ipython",
    "version": 3
   },
   "file_extension": ".py",
   "mimetype": "text/x-python",
   "name": "python",
   "nbconvert_exporter": "python",
   "pygments_lexer": "ipython3",
   "version": "3.11.7"
  }
 },
 "nbformat": 4,
 "nbformat_minor": 5
}
