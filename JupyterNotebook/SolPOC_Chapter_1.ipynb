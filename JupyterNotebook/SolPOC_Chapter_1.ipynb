{
 "cells": [
  {
   "cell_type": "markdown",
   "id": "bb1fee4b-1a71-4501-85eb-927c1c5d4187",
   "metadata": {},
   "source": [
    "## Welcome to the SolPOC Notebook !\n",
    "### In a way to pick up the software, we propose you to learn and test the key features in a way to be familiar with the software before usage.\n",
    "<br>\n",
    "\n",
    "# Chapter 1 : Reflectivity, transmissivity and absorptivity\n",
    "\n",
    "In optics, three important values are the Reflectivity (noted R), the Transmissivity (noted T) and the Abosrption (noted A). Let's see how the software is calculating them :\n",
    "\n",
    "- Based on the Abélès matrix formalism, the RTA3C and RTA functions are calculating R, T, A. For that, these functions only need an array of wavelengths, a stack thickness, the real and complex part of material refraction indexes and the incidence angle of the radiation in degrees.\n",
    "\n",
    "To test this functionality, let's try with some values.\n",
    "\n",
    "First, let's run the functions file:"
   ]
  },
  {
   "cell_type": "code",
   "execution_count": 4,
   "id": "1f6354dd-6499-47a1-8a0e-a8d023ecfda5",
   "metadata": {},
   "outputs": [],
   "source": [
    "run functions_COPS.py"
   ]
  },
  {
   "cell_type": "markdown",
   "id": "40490f21-f65f-488f-a476-3aeaca99862f",
   "metadata": {},
   "source": [
    "Now, let's create the variables needed !\n",
    "\n",
    "Linked with what we were saying before, Wl (for the wavelength) is an array that covers all the desired wavelengths, in nm. For an easy example, let's make a range of wavelengths between 400 and 600 nm with a step of 10 (400, 410, 420, ..., 600) :"
   ]
  },
  {
   "cell_type": "code",
   "execution_count": 5,
   "id": "2c1798de-3525-4638-a5c3-afd394c7cfbc",
   "metadata": {},
   "outputs": [
    {
     "name": "stdout",
     "output_type": "stream",
     "text": [
      "[400 410 420 430 440 450 460 470 480 490 500 510 520 530 540 550 560 570\n",
      " 580 590 600]\n"
     ]
    }
   ],
   "source": [
    "Wl = np.arange(400, 610, 10)\n",
    "print(Wl)"
   ]
  },
  {
   "cell_type": "markdown",
   "id": "7a5e7015-cad4-4ebb-80d3-b157dfd30566",
   "metadata": {},
   "source": [
    "Now, let's create an easy thickness stack where the substrate has 1 000 000 nm of thickness and each material 100 nm. The stack thicknesses is a list called d :"
   ]
  },
  {
   "cell_type": "code",
   "execution_count": 12,
   "id": "524392ef-603c-48b2-9ae9-146d2279101f",
   "metadata": {},
   "outputs": [],
   "source": [
    "d = [[1000000, 100, 100]]"
   ]
  },
  {
   "cell_type": "markdown",
   "id": "5488826a-23dd-4a07-8747-6a761aea0780",
   "metadata": {},
   "source": [
    "In addition, we have to create arrays with the reals and complex refactive index of the materials. For this example, let's put some refractive indexes :"
   ]
  },
  {
   "cell_type": "code",
   "execution_count": 13,
   "id": "36450447-91c4-402d-b222-61d548cb3e7d",
   "metadata": {},
   "outputs": [],
   "source": [
    "n = np.zeros((len(Wl), 3))\n",
    "n[:,0] = np.arange(1.55, 1.49975, -0.0025)\n",
    "n[:,1] = np.arange(3, 2.6985, -0.015)\n",
    "n[:,2] = np.arange(1.8, 1.4985, -0.015)\n",
    "k = np.zeros((len(Wl), 3))\n",
    "k[:, 0] = 0\n",
    "k[:, 1] = np.arange(0.1, 0.0799, -0.001)\n",
    "k[:, 2] = np.arange(0.1, 0.0475, -0.0025)"
   ]
  },
  {
   "cell_type": "markdown",
   "id": "06931473-f88b-4931-8dd3-d211d8d6360f",
   "metadata": {},
   "source": [
    "We get :"
   ]
  },
  {
   "cell_type": "code",
   "execution_count": 14,
   "id": "42f5de9a-7900-4cbc-b1d8-ad5961377bc1",
   "metadata": {},
   "outputs": [
    {
     "name": "stdout",
     "output_type": "stream",
     "text": [
      "n = \n",
      " [[1.55   3.     1.8   ]\n",
      " [1.5475 2.985  1.785 ]\n",
      " [1.545  2.97   1.77  ]\n",
      " [1.5425 2.955  1.755 ]\n",
      " [1.54   2.94   1.74  ]\n",
      " [1.5375 2.925  1.725 ]\n",
      " [1.535  2.91   1.71  ]\n",
      " [1.5325 2.895  1.695 ]\n",
      " [1.53   2.88   1.68  ]\n",
      " [1.5275 2.865  1.665 ]\n",
      " [1.525  2.85   1.65  ]\n",
      " [1.5225 2.835  1.635 ]\n",
      " [1.52   2.82   1.62  ]\n",
      " [1.5175 2.805  1.605 ]\n",
      " [1.515  2.79   1.59  ]\n",
      " [1.5125 2.775  1.575 ]\n",
      " [1.51   2.76   1.56  ]\n",
      " [1.5075 2.745  1.545 ]\n",
      " [1.505  2.73   1.53  ]\n",
      " [1.5025 2.715  1.515 ]\n",
      " [1.5    2.7    1.5   ]]\n",
      "\n",
      "k = \n",
      " [[0.     0.1    0.1   ]\n",
      " [0.     0.099  0.0975]\n",
      " [0.     0.098  0.095 ]\n",
      " [0.     0.097  0.0925]\n",
      " [0.     0.096  0.09  ]\n",
      " [0.     0.095  0.0875]\n",
      " [0.     0.094  0.085 ]\n",
      " [0.     0.093  0.0825]\n",
      " [0.     0.092  0.08  ]\n",
      " [0.     0.091  0.0775]\n",
      " [0.     0.09   0.075 ]\n",
      " [0.     0.089  0.0725]\n",
      " [0.     0.088  0.07  ]\n",
      " [0.     0.087  0.0675]\n",
      " [0.     0.086  0.065 ]\n",
      " [0.     0.085  0.0625]\n",
      " [0.     0.084  0.06  ]\n",
      " [0.     0.083  0.0575]\n",
      " [0.     0.082  0.055 ]\n",
      " [0.     0.081  0.0525]\n",
      " [0.     0.08   0.05  ]]\n"
     ]
    }
   ],
   "source": [
    "print('n = \\n', n)\n",
    "print('\\nk = \\n', k)"
   ]
  },
  {
   "cell_type": "markdown",
   "id": "122e6a43-9c94-4546-99cf-da999e4b6faa",
   "metadata": {},
   "source": [
    "Finally, we take need a value for the incidence angle, 0 degree is for a normal incidence angle !"
   ]
  },
  {
   "cell_type": "code",
   "execution_count": 15,
   "id": "040ccb6a-5196-4ead-a71b-b7ade69895d6",
   "metadata": {},
   "outputs": [],
   "source": [
    "Ang = 0"
   ]
  },
  {
   "cell_type": "markdown",
   "id": "4a55ec78-2726-42c0-a09c-9e9359fb39d7",
   "metadata": {},
   "source": [
    "Now, we can calculate the Reflectivity, Transmissivity and Absorptivity using RTA() function !"
   ]
  },
  {
   "cell_type": "code",
   "execution_count": 17,
   "id": "467f2a77-2f23-402b-ba8c-7b5f6242c2af",
   "metadata": {},
   "outputs": [
    {
     "name": "stdout",
     "output_type": "stream",
     "text": [
      "R =  [0.28825651 0.26116543 0.22438712 0.18128399 0.13577424 0.09219523\n",
      " 0.05473638 0.02657622 0.0091236  0.0017938  0.00244313 0.00819122\n",
      " 0.01621645 0.02426074 0.03081132 0.03506253 0.03677815 0.03613561\n",
      " 0.03358965 0.02976433 0.02536941]\n",
      "T =  [0.31416556 0.33426878 0.36177426 0.39565577 0.43426356 0.47523257\n",
      " 0.51568056 0.55273067 0.5841806  0.60899397 0.62737591 0.64045536\n",
      " 0.64979735 0.656973   0.66329524 0.66971426 0.6768173  0.68487812\n",
      " 0.69392079 0.70378128 0.714162  ]\n",
      "A =  [0.39757793 0.40456579 0.41383863 0.42306024 0.4299622  0.4325722\n",
      " 0.42958306 0.42069311 0.4066958  0.38921223 0.37018096 0.35135343\n",
      " 0.33398621 0.31876626 0.30589344 0.29522321 0.28640455 0.27898627\n",
      " 0.27248956 0.26645439 0.26046859]\n"
     ]
    }
   ],
   "source": [
    "R, T, A = RTA(Wl, d, n, k, Ang)\n",
    "print('R = ', R)\n",
    "print('T = ', T)\n",
    "print('A = ', A)"
   ]
  },
  {
   "cell_type": "markdown",
   "id": "43e767d0-9c14-4f0c-8f91-2448767e524d",
   "metadata": {},
   "source": [
    "We can notice that the function returns 3 arrays (1 for R, 1 for T, 1 for A) that will help us to resolve optical problems. The array length is the same as Wl and noted as the energy conservation law R[i] + T[i] + A[i] = 1."
   ]
  },
  {
   "cell_type": "markdown",
   "id": "4bbe2e32-763b-4a2c-8d0c-d80c7a0168c9",
   "metadata": {},
   "source": [
    "To conclude this 1st chapter, we just let you know that the sister function RTA3C exists. RTA3C exists for academic purposes : \n",
    "i) It calculates RTA just for 3 layers\n",
    "ii) The code is easier to understand than RTA but much slower..."
   ]
  },
  {
   "cell_type": "code",
   "execution_count": 19,
   "id": "3001580d-9490-4c50-b77f-323b2eb8a00a",
   "metadata": {},
   "outputs": [
    {
     "name": "stdout",
     "output_type": "stream",
     "text": [
      "R =  [0.28825651 0.26116543 0.22438712 0.18128399 0.13577424 0.09219523\n",
      " 0.05473638 0.02657622 0.0091236  0.0017938  0.00244313 0.00819122\n",
      " 0.01621645 0.02426074 0.03081132 0.03506253 0.03677815 0.03613561\n",
      " 0.03358965 0.02976433 0.02536941]\n",
      "T =  [0.31416556 0.33426878 0.36177426 0.39565577 0.43426356 0.47523257\n",
      " 0.51568056 0.55273067 0.5841806  0.60899397 0.62737591 0.64045536\n",
      " 0.64979735 0.656973   0.66329524 0.66971426 0.6768173  0.68487812\n",
      " 0.69392079 0.70378128 0.714162  ]\n",
      "A =  [0.39757793 0.40456579 0.41383863 0.42306024 0.4299622  0.4325722\n",
      " 0.42958306 0.42069311 0.4066958  0.38921223 0.37018096 0.35135343\n",
      " 0.33398621 0.31876626 0.30589344 0.29522321 0.28640455 0.27898627\n",
      " 0.27248956 0.26645439 0.26046859]\n"
     ]
    }
   ],
   "source": [
    "R, T, A = RTA3C(Wl, d, n, k, Ang)\n",
    "print('R = ', R)\n",
    "print('T = ', T)\n",
    "print('A = ', A)"
   ]
  },
  {
   "cell_type": "markdown",
   "id": "3241720c-b926-4005-ae28-346171683e6b",
   "metadata": {},
   "source": [
    "We can observe that the results are the same than RTA ones. Just for trying, let's add one more layer and see !"
   ]
  },
  {
   "cell_type": "code",
   "execution_count": 20,
   "id": "fd428307-2a4e-4fe9-8c1a-7447b684d090",
   "metadata": {},
   "outputs": [],
   "source": [
    "n = np.zeros((len(Wl), 4))\n",
    "n[:,0] = np.arange(1.55, 1.49975, -0.0025)\n",
    "n[:,1] = np.arange(3, 2.6985, -0.015)\n",
    "n[:,2] = np.arange(1.8, 1.4985, -0.015)\n",
    "n[:, 3] = np.arange(1.8, 1.4985, -0.015)\n",
    "k = np.zeros((len(Wl), 4))\n",
    "k[:, 0] = 0\n",
    "k[:, 1] = np.arange(0.1, 0.0799, -0.001)\n",
    "k[:, 2] = np.arange(0.1, 0.0475, -0.0025)\n",
    "k[:, 3] = np.arange(0.1, 0.0475, -0.0025)\n",
    "d = [[1000000, 100, 100, 100]]"
   ]
  },
  {
   "cell_type": "markdown",
   "id": "844ee037-ced3-456e-8d68-556b9cb3a5f7",
   "metadata": {},
   "source": [
    "We added a new layer !"
   ]
  },
  {
   "cell_type": "code",
   "execution_count": 21,
   "id": "e4ea9e5e-1fee-4c8c-9c93-02fbfb76352a",
   "metadata": {},
   "outputs": [
    {
     "name": "stdout",
     "output_type": "stream",
     "text": [
      "R =  [nan nan nan nan nan nan nan nan nan nan nan nan nan nan nan nan nan nan\n",
      " nan nan nan]\n",
      "T =  [nan nan nan nan nan nan nan nan nan nan nan nan nan nan nan nan nan nan\n",
      " nan nan nan]\n",
      "A =  [nan nan nan nan nan nan nan nan nan nan nan nan nan nan nan nan nan nan\n",
      " nan nan nan]\n"
     ]
    },
    {
     "name": "stderr",
     "output_type": "stream",
     "text": [
      "C:\\Users\\titou\\Downloads\\COPS-main (2)\\COPS-main\\COPS\\functions_COPS.py:181: RuntimeWarning: invalid value encountered in divide\n",
      "  rs = (q0PolaS*m11s-qSPolaS*m22s+q0PolaS*qSPolaS*m12s-m21s)/(q0PolaS*m11s+qSPolaS*m22s+q0PolaS*qSPolaS*m12s+m21s)\n",
      "C:\\Users\\titou\\Downloads\\COPS-main (2)\\COPS-main\\COPS\\functions_COPS.py:182: RuntimeWarning: invalid value encountered in divide\n",
      "  rp = (q0PolaP*m11p-qSPolaP*m22p+q0PolaP*qSPolaP*m12p-m21p)/(q0PolaP*m11p+qSPolaP*m22p+q0PolaP*qSPolaP*m12p+m21p)\n",
      "C:\\Users\\titou\\Downloads\\COPS-main (2)\\COPS-main\\COPS\\functions_COPS.py:183: RuntimeWarning: divide by zero encountered in divide\n",
      "  ts = 2*q0PolaS/(q0PolaS*m11s+qSPolaS*m22s+q0PolaS*qSPolaS*m12s+m21s)\n",
      "C:\\Users\\titou\\Downloads\\COPS-main (2)\\COPS-main\\COPS\\functions_COPS.py:183: RuntimeWarning: invalid value encountered in divide\n",
      "  ts = 2*q0PolaS/(q0PolaS*m11s+qSPolaS*m22s+q0PolaS*qSPolaS*m12s+m21s)\n",
      "C:\\Users\\titou\\Downloads\\COPS-main (2)\\COPS-main\\COPS\\functions_COPS.py:184: RuntimeWarning: divide by zero encountered in divide\n",
      "  tp = 2*q0PolaP/(q0PolaP*m11p+qSPolaP*m22p+q0PolaP*qSPolaP*m12p+m21p)\n",
      "C:\\Users\\titou\\Downloads\\COPS-main (2)\\COPS-main\\COPS\\functions_COPS.py:184: RuntimeWarning: invalid value encountered in divide\n",
      "  tp = 2*q0PolaP/(q0PolaP*m11p+qSPolaP*m22p+q0PolaP*qSPolaP*m12p+m21p)\n"
     ]
    }
   ],
   "source": [
    "R, T, A = RTA3C(Wl, d, n, k, Ang)\n",
    "print('R = ', R)\n",
    "print('T = ', T)\n",
    "print('A = ', A)"
   ]
  },
  {
   "cell_type": "markdown",
   "id": "be6fb22b-2fe4-4146-83b8-1a3f09e681f7",
   "metadata": {},
   "source": [
    "It works with RTA. The function doesn't have a limitation in the layer number and works for 100/120/150 thin layers. We recommand to avoid a number of layers higher than 150 as written in the article."
   ]
  },
  {
   "cell_type": "code",
   "execution_count": 22,
   "id": "2b1e3929-148b-4a89-aeba-461f97ac9b92",
   "metadata": {},
   "outputs": [
    {
     "name": "stdout",
     "output_type": "stream",
     "text": [
      "R =  [0.16360245 0.10813673 0.05306543 0.01360362 0.00035694 0.01347982\n",
      " 0.04346139 0.07774725 0.10662376 0.125032   0.13171172 0.1278112\n",
      " 0.11588271 0.09928586 0.0817474  0.06687286 0.05757441 0.05555691\n",
      " 0.06107744 0.07309604 0.08973831]\n",
      "T =  [0.25410913 0.28396992 0.31910239 0.35416219 0.38345606 0.40382198\n",
      " 0.41606473 0.42368556 0.43060359 0.43973932 0.45268429 0.46986983\n",
      " 0.49079939 0.51422889 0.53835181 0.56107641 0.58041934 0.59493202\n",
      " 0.60400302 0.60791226 0.60763662]\n",
      "A =  [0.58228842 0.60789335 0.62783218 0.63223419 0.616187   0.5826982\n",
      " 0.54047387 0.49856719 0.46277265 0.43522868 0.41560399 0.40231897\n",
      " 0.39331791 0.38648525 0.37990079 0.37205073 0.36200625 0.34951106\n",
      " 0.33491954 0.3189917  0.30262507]\n"
     ]
    }
   ],
   "source": [
    "R, T, A = RTA(Wl, d, n, k, Ang)\n",
    "print('R = ', R)\n",
    "print('T = ', T)\n",
    "print('A = ', A)"
   ]
  },
  {
   "cell_type": "markdown",
   "id": "09710c87-eacb-4d84-87f2-46ea27384c17",
   "metadata": {},
   "source": [
    "As we can see, RTA3C is returning None arrays where RTA is working well. The difference between both is the number of layers ! RTA3C works for a maximum of 3 layers where RTA works for any number (be raisonable) !"
   ]
  },
  {
   "cell_type": "markdown",
   "id": "03d27e00-a809-4b50-84e9-acb0c11fe3c9",
   "metadata": {},
   "source": [
    "[Chapter 2](SolPOC_Chapter_2.ipynb)"
   ]
  }
 ],
 "metadata": {
  "kernelspec": {
   "display_name": "Python 3 (ipykernel)",
   "language": "python",
   "name": "python3"
  },
  "language_info": {
   "codemirror_mode": {
    "name": "ipython",
    "version": 3
   },
   "file_extension": ".py",
   "mimetype": "text/x-python",
   "name": "python",
   "nbconvert_exporter": "python",
   "pygments_lexer": "ipython3",
   "version": "3.11.6"
  }
 },
 "nbformat": 4,
 "nbformat_minor": 5
}
